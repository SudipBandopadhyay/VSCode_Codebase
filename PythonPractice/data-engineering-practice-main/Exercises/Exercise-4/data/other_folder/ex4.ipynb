{
 "cells": [
  {
   "cell_type": "code",
   "execution_count": 21,
   "id": "841625c3",
   "metadata": {},
   "outputs": [],
   "source": [
    "import pandas as pd\n",
    "from pathlib import Path\n",
    "import json\n",
    "import glob"
   ]
  },
  {
   "cell_type": "code",
   "execution_count": 48,
   "id": "f176f870",
   "metadata": {},
   "outputs": [
    {
     "name": "stdout",
     "output_type": "stream",
     "text": [
      "PythonPractice\\data-engineering-practice-main\\Exercises\\Exercise-4\\data\\file-1.json\n",
      "PythonPractice\\data-engineering-practice-main\\Exercises\\Exercise-4\\data\\enough_already\\file-4.json\n",
      "PythonPractice\\data-engineering-practice-main\\Exercises\\Exercise-4\\data\\other_folder\\file-3.json\n",
      "PythonPractice\\data-engineering-practice-main\\Exercises\\Exercise-4\\data\\some_folder\\other_folder\\file-2.json\n"
     ]
    }
   ],
   "source": [
    "txt_files = glob.glob('**\\*.json', recursive=True)\n",
    "    \n",
    "for file in txt_files:\n",
    "    print(file)\n",
    "    p = Path(file)\n",
    "\n",
    "    # read json\n",
    "    with p.open('r', encoding='utf-8') as f:\n",
    "        data = json.loads(f.read())\n",
    "\n",
    "    # create dataframe\n",
    "    df = pd.json_normalize(data)\n",
    "    #print(df)\n",
    "    directory  = file[:file.rfind(\"\\\\\")+1]\n",
    "    filename = file[file.rfind(\"\\\\\")+1:file.rfind(\".\")]+'.csv'\n",
    "    df.to_csv(directory+filename,index=False)\n",
    "\n"
   ]
  }
 ],
 "metadata": {
  "kernelspec": {
   "display_name": "Python 3",
   "language": "python",
   "name": "python3"
  },
  "language_info": {
   "codemirror_mode": {
    "name": "ipython",
    "version": 3
   },
   "file_extension": ".py",
   "mimetype": "text/x-python",
   "name": "python",
   "nbconvert_exporter": "python",
   "pygments_lexer": "ipython3",
   "version": "3.11.9"
  }
 },
 "nbformat": 4,
 "nbformat_minor": 5
}
