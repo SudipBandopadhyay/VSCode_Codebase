{
 "cells": [
  {
   "cell_type": "code",
   "execution_count": 80,
   "id": "208935af",
   "metadata": {},
   "outputs": [],
   "source": [
    "from pyspark.sql import SparkSession\n",
    "import zipfile\n",
    "from pyspark.sql.functions import col, unix_timestamp,to_date,avg,sum,min,max,count,month,current_date,year"
   ]
  },
  {
   "cell_type": "code",
   "execution_count": 2,
   "id": "5cc3c107",
   "metadata": {},
   "outputs": [],
   "source": [
    "\n",
    "spark = SparkSession.builder\\\n",
    "    .config(\"spark.driver.bindAddress\", \"localhost\") \\\n",
    "    .getOrCreate() "
   ]
  },
  {
   "cell_type": "code",
   "execution_count": 3,
   "id": "2c0dc5ad",
   "metadata": {},
   "outputs": [
    {
     "name": "stdout",
     "output_type": "stream",
     "text": [
      "+---------+----------+--------+----------+------+------+\n",
      "|firstname|middlename|lastname|dob       |gender|salary|\n",
      "+---------+----------+--------+----------+------+------+\n",
      "|James    |zen       |Smith   |1991-04-01|M     |3000  |\n",
      "|Michael  |Rose      |zwee    |2000-05-19|M     |4000  |\n",
      "|Robert   |          |Williams|1978-09-05|M     |4000  |\n",
      "|Maria    |Anne      |Jones   |1967-12-01|F     |4000  |\n",
      "|Jen      |Mary      |Brown   |1980-02-17|F     |400   |\n",
      "+---------+----------+--------+----------+------+------+\n",
      "\n"
     ]
    }
   ],
   "source": [
    "\n",
    "# Create DataFrame\n",
    "data = [\n",
    "(\"James\", \"zen\", \"Smith\", \"1991-04-01\", \"M\", 3000),\n",
    "(\"Michael\", \"Rose\", \"zwee\", \"2000-05-19\", \"M\", 4000),\n",
    "(\"Robert\", \"\", \"Williams\", \"1978-09-05\", \"M\", 4000),\n",
    "(\"Maria\", \"Anne\", \"Jones\", \"1967-12-01\", \"F\", 4000),\n",
    "(\"Jen\", \"Mary\", \"Brown\", \"1980-02-17\", \"F\", 400),\n",
    "]\n",
    "columns = [\"firstname\", \"middlename\", \"lastname\", \"dob\", \"gender\", \"salary\"]\n",
    "df = spark.createDataFrame(data=data, schema=columns)\n",
    "df.show(truncate=False)"
   ]
  },
  {
   "cell_type": "code",
   "execution_count": 52,
   "id": "25fc42b9",
   "metadata": {},
   "outputs": [
    {
     "name": "stdout",
     "output_type": "stream",
     "text": [
      "+--------+-------------------+-------------------+------+------------+---------------+------------------------------+-------------+----------------------------+----------+------+---------+\n",
      "|trip_id |start_time         |end_time           |bikeid|tripduration|from_station_id|from_station_name             |to_station_id|to_station_name             |usertype  |gender|birthyear|\n",
      "+--------+-------------------+-------------------+------+------------+---------------+------------------------------+-------------+----------------------------+----------+------+---------+\n",
      "|25223640|2019-10-01 00:01:39|2019-10-01 00:17:20|2215  |940.0       |20             |Sheffield Ave & Kingsbury St  |309          |Leavitt St & Armitage Ave   |Subscriber|Male  |1987     |\n",
      "|25223641|2019-10-01 00:02:16|2019-10-01 00:06:34|6328  |258.0       |19             |Throop (Loomis) St & Taylor St|241          |Morgan St & Polk St         |Subscriber|Male  |1998     |\n",
      "|25223642|2019-10-01 00:04:32|2019-10-01 00:18:43|3003  |850.0       |84             |Milwaukee Ave & Grand Ave     |199          |Wabash Ave & Grand Ave      |Subscriber|Female|1991     |\n",
      "|25223643|2019-10-01 00:04:32|2019-10-01 00:43:43|3275  |2,350.0     |313            |Lakeview Ave & Fullerton Pkwy |290          |Kedzie Ave & Palmer Ct      |Subscriber|Male  |1990     |\n",
      "|25223644|2019-10-01 00:04:34|2019-10-01 00:35:42|5294  |1,867.0     |210            |Ashland Ave & Division St     |382          |Western Ave & Congress Pkwy |Subscriber|Male  |1987     |\n",
      "|25223645|2019-10-01 00:04:38|2019-10-01 00:10:51|1891  |373.0       |156            |Clark St & Wellington Ave     |226          |Racine Ave & Belmont Ave    |Subscriber|Female|1994     |\n",
      "|25223646|2019-10-01 00:04:52|2019-10-01 00:22:45|1061  |1,072.0     |84             |Milwaukee Ave & Grand Ave     |142          |McClurg Ct & Erie St        |Subscriber|Female|1991     |\n",
      "|25223647|2019-10-01 00:04:57|2019-10-01 00:29:16|1274  |1,458.0     |156            |Clark St & Wellington Ave     |463          |Clark St & Berwyn Ave       |Subscriber|Male  |1995     |\n",
      "|25223648|2019-10-01 00:05:20|2019-10-01 00:29:18|6011  |1,437.0     |156            |Clark St & Wellington Ave     |463          |Clark St & Berwyn Ave       |Subscriber|Female|1993     |\n",
      "|25223649|2019-10-01 00:05:20|2019-10-01 02:23:46|2957  |8,306.0     |336            |Cottage Grove Ave & 47th St   |336          |Cottage Grove Ave & 47th St |Customer  |NULL  |NULL     |\n",
      "|25223650|2019-10-01 00:05:30|2019-10-01 00:37:36|2564  |1,925.0     |77             |Clinton St & Madison St       |506          |Spaulding Ave & Armitage Ave|Subscriber|Male  |1977     |\n",
      "|25223651|2019-10-01 00:07:25|2019-10-01 00:19:53|3601  |748.0       |198            |Green St & Madison St         |331          |Halsted St & Clybourn Ave   |Subscriber|Female|1980     |\n",
      "|25223652|2019-10-01 00:08:40|2019-10-01 00:26:00|711   |1,039.0     |66             |Clinton St & Lake St          |16           |Paulina Ave & North Ave     |Customer  |Male  |1994     |\n",
      "|25223653|2019-10-01 00:08:52|2019-10-01 00:29:17|5005  |1,224.0     |240            |Sheridan Rd & Irving Park Rd  |230          |Lincoln Ave & Roscoe St     |Customer  |NULL  |NULL     |\n",
      "|25223655|2019-10-01 00:10:03|2019-10-01 00:15:30|1730  |326.0       |66             |Clinton St & Lake St          |88           |Racine Ave & Randolph St    |Subscriber|Male  |1992     |\n",
      "|25223656|2019-10-01 00:10:46|2019-10-01 00:16:04|4595  |318.0       |373            |Kedzie Ave & Chicago Ave      |377          |Kedzie Ave & Lake St        |Customer  |NULL  |NULL     |\n",
      "|25223657|2019-10-01 00:12:04|2019-10-01 01:13:36|2958  |3,692.0     |74             |Kingsbury St & Erie St        |402          |Shields Ave & 31st St       |Customer  |Female|1962     |\n",
      "|25223658|2019-10-01 00:12:47|2019-10-01 00:17:55|1489  |308.0       |289            |Wells St & Concord Ln         |176          |Clark St & Elm St           |Subscriber|Male  |1992     |\n",
      "|25223659|2019-10-01 00:13:21|2019-10-01 00:34:12|3602  |1,251.0     |106            |State St & Pearson St         |334          |Lake Shore Dr & Belmont Ave |Customer  |NULL  |NULL     |\n",
      "|25223660|2019-10-01 00:15:07|2019-10-01 00:40:34|4228  |1,527.0     |133            |Kingsbury St & Kinzie St      |673          |Lincoln Park Conservatory   |Customer  |Female|1995     |\n",
      "+--------+-------------------+-------------------+------+------------+---------------+------------------------------+-------------+----------------------------+----------+------+---------+\n",
      "only showing top 20 rows\n",
      "None\n"
     ]
    }
   ],
   "source": [
    "\n",
    "with zipfile.ZipFile(\"PythonPractice\\data-engineering-practice-main\\Exercises\\Exercise-6\\data\\Divvy_Trips_2019_Q4.zip\") as archive:\n",
    "    text = archive.read(\"Divvy_Trips_2019_Q4.csv\").decode(encoding=\"utf-8\")\n",
    "\n",
    "#print(text)\n",
    "\n",
    "df = spark.read.option(\"header\", \"true\").csv(spark.sparkContext.parallelize(text.split(\"\\n\")))\n",
    "#df = spark.read.option(\"header\",\"true\").option(\"inferSchema\",\"true\").option(\"delimiter\", \"|\").csv(spark.sparkContext.parallelize(input_data.split(\"\\n\")))\n",
    "\n",
    "print(df.show(truncate=False))"
   ]
  },
  {
   "cell_type": "code",
   "execution_count": 82,
   "id": "49fded65",
   "metadata": {},
   "outputs": [],
   "source": [
    "\n",
    "df = df.withColumn('end_time', col('end_time').cast('Timestamp'))\n",
    "df = df.withColumn('start_time', col('start_time').cast('Timestamp'))\n",
    "df = df.withColumn('birthyear', col('birthyear').cast('Integer'))\n",
    "\n",
    "df = df.withColumn('tripduration',unix_timestamp(col('end_time')) -unix_timestamp(col('start_time')))\n",
    "df = df.withColumn('tripdate',to_date(col('end_time')))\n",
    "df = df.withColumn('age',year(current_date()) - col('birthyear'))\n"
   ]
  },
  {
   "cell_type": "code",
   "execution_count": 83,
   "id": "ede7d59d",
   "metadata": {},
   "outputs": [
    {
     "name": "stdout",
     "output_type": "stream",
     "text": [
      "+--------+-------------------+-------------------+------+------------+---------------+------------------------------+-------------+----------------------------+----------+------+---------+----------+----+\n",
      "|trip_id |start_time         |end_time           |bikeid|tripduration|from_station_id|from_station_name             |to_station_id|to_station_name             |usertype  |gender|birthyear|tripdate  |age |\n",
      "+--------+-------------------+-------------------+------+------------+---------------+------------------------------+-------------+----------------------------+----------+------+---------+----------+----+\n",
      "|25223640|2019-10-01 00:01:39|2019-10-01 00:17:20|2215  |941         |20             |Sheffield Ave & Kingsbury St  |309          |Leavitt St & Armitage Ave   |Subscriber|Male  |1987     |2019-10-01|38  |\n",
      "|25223641|2019-10-01 00:02:16|2019-10-01 00:06:34|6328  |258         |19             |Throop (Loomis) St & Taylor St|241          |Morgan St & Polk St         |Subscriber|Male  |1998     |2019-10-01|27  |\n",
      "|25223642|2019-10-01 00:04:32|2019-10-01 00:18:43|3003  |851         |84             |Milwaukee Ave & Grand Ave     |199          |Wabash Ave & Grand Ave      |Subscriber|Female|1991     |2019-10-01|34  |\n",
      "|25223643|2019-10-01 00:04:32|2019-10-01 00:43:43|3275  |2351        |313            |Lakeview Ave & Fullerton Pkwy |290          |Kedzie Ave & Palmer Ct      |Subscriber|Male  |1990     |2019-10-01|35  |\n",
      "|25223644|2019-10-01 00:04:34|2019-10-01 00:35:42|5294  |1868        |210            |Ashland Ave & Division St     |382          |Western Ave & Congress Pkwy |Subscriber|Male  |1987     |2019-10-01|38  |\n",
      "|25223645|2019-10-01 00:04:38|2019-10-01 00:10:51|1891  |373         |156            |Clark St & Wellington Ave     |226          |Racine Ave & Belmont Ave    |Subscriber|Female|1994     |2019-10-01|31  |\n",
      "|25223646|2019-10-01 00:04:52|2019-10-01 00:22:45|1061  |1073        |84             |Milwaukee Ave & Grand Ave     |142          |McClurg Ct & Erie St        |Subscriber|Female|1991     |2019-10-01|34  |\n",
      "|25223647|2019-10-01 00:04:57|2019-10-01 00:29:16|1274  |1459        |156            |Clark St & Wellington Ave     |463          |Clark St & Berwyn Ave       |Subscriber|Male  |1995     |2019-10-01|30  |\n",
      "|25223648|2019-10-01 00:05:20|2019-10-01 00:29:18|6011  |1438        |156            |Clark St & Wellington Ave     |463          |Clark St & Berwyn Ave       |Subscriber|Female|1993     |2019-10-01|32  |\n",
      "|25223649|2019-10-01 00:05:20|2019-10-01 02:23:46|2957  |8306        |336            |Cottage Grove Ave & 47th St   |336          |Cottage Grove Ave & 47th St |Customer  |NULL  |NULL     |2019-10-01|NULL|\n",
      "|25223650|2019-10-01 00:05:30|2019-10-01 00:37:36|2564  |1926        |77             |Clinton St & Madison St       |506          |Spaulding Ave & Armitage Ave|Subscriber|Male  |1977     |2019-10-01|48  |\n",
      "|25223651|2019-10-01 00:07:25|2019-10-01 00:19:53|3601  |748         |198            |Green St & Madison St         |331          |Halsted St & Clybourn Ave   |Subscriber|Female|1980     |2019-10-01|45  |\n",
      "|25223652|2019-10-01 00:08:40|2019-10-01 00:26:00|711   |1040        |66             |Clinton St & Lake St          |16           |Paulina Ave & North Ave     |Customer  |Male  |1994     |2019-10-01|31  |\n",
      "|25223653|2019-10-01 00:08:52|2019-10-01 00:29:17|5005  |1225        |240            |Sheridan Rd & Irving Park Rd  |230          |Lincoln Ave & Roscoe St     |Customer  |NULL  |NULL     |2019-10-01|NULL|\n",
      "|25223655|2019-10-01 00:10:03|2019-10-01 00:15:30|1730  |327         |66             |Clinton St & Lake St          |88           |Racine Ave & Randolph St    |Subscriber|Male  |1992     |2019-10-01|33  |\n",
      "|25223656|2019-10-01 00:10:46|2019-10-01 00:16:04|4595  |318         |373            |Kedzie Ave & Chicago Ave      |377          |Kedzie Ave & Lake St        |Customer  |NULL  |NULL     |2019-10-01|NULL|\n",
      "|25223657|2019-10-01 00:12:04|2019-10-01 01:13:36|2958  |3692        |74             |Kingsbury St & Erie St        |402          |Shields Ave & 31st St       |Customer  |Female|1962     |2019-10-01|63  |\n",
      "|25223658|2019-10-01 00:12:47|2019-10-01 00:17:55|1489  |308         |289            |Wells St & Concord Ln         |176          |Clark St & Elm St           |Subscriber|Male  |1992     |2019-10-01|33  |\n",
      "|25223659|2019-10-01 00:13:21|2019-10-01 00:34:12|3602  |1251        |106            |State St & Pearson St         |334          |Lake Shore Dr & Belmont Ave |Customer  |NULL  |NULL     |2019-10-01|NULL|\n",
      "|25223660|2019-10-01 00:15:07|2019-10-01 00:40:34|4228  |1527        |133            |Kingsbury St & Kinzie St      |673          |Lincoln Park Conservatory   |Customer  |Female|1995     |2019-10-01|30  |\n",
      "+--------+-------------------+-------------------+------+------------+---------------+------------------------------+-------------+----------------------------+----------+------+---------+----------+----+\n",
      "only showing top 20 rows\n",
      "None\n"
     ]
    }
   ],
   "source": [
    "print(df.show(truncate=False))"
   ]
  },
  {
   "cell_type": "code",
   "execution_count": 55,
   "id": "390c60b2",
   "metadata": {},
   "outputs": [
    {
     "name": "stdout",
     "output_type": "stream",
     "text": [
      "+----------+------------------+---------+\n",
      "|  tripdate|   avgtripduration|totaltrip|\n",
      "+----------+------------------+---------+\n",
      "|2019-10-05|1318.4542840713054|    10434|\n",
      "|2019-10-01| 972.1641100957354|    18384|\n",
      "|2019-10-22| 967.5284884775903|    11022|\n",
      "|2019-10-04|  950.214849921011|    14559|\n",
      "|2019-12-14| 4416.052333804809|     3535|\n",
      "|2019-10-02| 812.9518279135528|     9902|\n",
      "|2019-10-08|1025.5990415335464|    17528|\n",
      "|2019-10-14|1308.5160846254166|    13802|\n",
      "|2019-10-15| 1082.923094271538|    13302|\n",
      "|2019-10-07| 1113.469835572024|    17272|\n",
      "|2019-10-06|1663.7502235469449|    13420|\n",
      "|2019-10-03| 904.1126986160943|    15608|\n",
      "|2019-10-09|1005.6840790238234|    17210|\n",
      "|2019-11-09|1792.5347364499908|     5369|\n",
      "|2019-10-21| 963.1177872340426|    11750|\n",
      "|2020-01-13|         8585902.0|        1|\n",
      "|2019-10-12|1409.6069537186277|     8686|\n",
      "|2019-10-20|1382.7980512036684|    10468|\n",
      "|2019-10-10| 954.5956291056089|    15832|\n",
      "|2019-10-16| 876.7375368846094|    12878|\n",
      "+----------+------------------+---------+\n",
      "only showing top 20 rows\n"
     ]
    }
   ],
   "source": [
    "df.groupby('tripdate').agg(\n",
    "    avg('tripduration').alias('avgtripduration'),\n",
    "    count('trip_id').alias('totaltrip')\n",
    "    ).show()"
   ]
  },
  {
   "cell_type": "code",
   "execution_count": 70,
   "id": "d3ba93cd",
   "metadata": {},
   "outputs": [
    {
     "name": "stdout",
     "output_type": "stream",
     "text": [
      "+---------+---------------+-------------+\n",
      "|tripmonth|from_station_id|maxnumbertrip|\n",
      "+---------+---------------+-------------+\n",
      "|       10|            192|         6564|\n",
      "|       11|            192|         3445|\n",
      "|       12|            192|         2928|\n",
      "|        1|             90|            5|\n",
      "+---------+---------------+-------------+\n",
      "\n"
     ]
    }
   ],
   "source": [
    "df_new = df.groupby(month('tripdate').alias('tripmonth'),'from_station_id').agg(\n",
    "    count('from_station_id').alias('numberoftrip')\n",
    ")\n",
    "maxtrip_df = df_new.groupBy('tripmonth').agg(max('numberoftrip').alias('maxnumbertrip'))\n",
    "\n",
    "final_df= df_new.join(maxtrip_df,\n",
    "                      on = 'tripmonth'\n",
    "                      ).filter(\n",
    "                          df_new['numberoftrip'] == maxtrip_df['maxnumbertrip']).select(\n",
    "                              'tripmonth','from_station_id','maxnumbertrip'\n",
    "                          )\n",
    "final_df.show()"
   ]
  },
  {
   "cell_type": "code",
   "execution_count": 72,
   "id": "9fd614e0",
   "metadata": {},
   "outputs": [
    {
     "name": "stdout",
     "output_type": "stream",
     "text": [
      "+------+------------------+\n",
      "|gender|   avgtripduration|\n",
      "+------+------------------+\n",
      "|  NULL| 3826.708819510144|\n",
      "|Female|1102.4052011867236|\n",
      "|  Male| 855.7464493410545|\n",
      "+------+------------------+\n",
      "\n"
     ]
    }
   ],
   "source": [
    "df.groupby('gender').agg(\n",
    "    avg('tripduration').alias('avgtripduration')\n",
    ").show()"
   ]
  },
  {
   "cell_type": "code",
   "execution_count": 88,
   "id": "01d8a9dd",
   "metadata": {},
   "outputs": [],
   "source": [
    "df_age = df.groupby('age').agg(\n",
    "    avg('tripduration').alias('avgtripduration')\n",
    ").orderBy('avgtripduration')"
   ]
  },
  {
   "cell_type": "code",
   "execution_count": 95,
   "id": "4cb345fe",
   "metadata": {},
   "outputs": [
    {
     "name": "stdout",
     "output_type": "stream",
     "text": [
      "+---+------------------+\n",
      "|age|   avgtripduration|\n",
      "+---+------------------+\n",
      "| 94|             282.5|\n",
      "| 96|             298.5|\n",
      "|104|323.53684210526313|\n",
      "| 88|            336.75|\n",
      "|125|          431.3125|\n",
      "| 82|493.42857142857144|\n",
      "| 84| 557.3333333333334|\n",
      "| 83|             575.5|\n",
      "|124|             689.0|\n",
      "| 64| 727.8381351492928|\n",
      "+---+------------------+\n",
      "\n"
     ]
    }
   ],
   "source": [
    "df_age.limit(10).show()"
   ]
  },
  {
   "cell_type": "code",
   "execution_count": 100,
   "id": "45576f90",
   "metadata": {},
   "outputs": [
    {
     "data": {
      "text/plain": [
       "[Row(age=43, avgtripduration=1201.046947847772),\n",
       " Row(age=28, avgtripduration=1211.014277215943),\n",
       " Row(age=25, avgtripduration=1261.079336458709),\n",
       " Row(age=22, avgtripduration=1271.3225806451612),\n",
       " Row(age=92, avgtripduration=1298.0),\n",
       " Row(age=121, avgtripduration=1420.99),\n",
       " Row(age=23, avgtripduration=2059.361010830325),\n",
       " Row(age=26, avgtripduration=2697.7215509974712),\n",
       " Row(age=None, avgtripduration=3986.4971385029426),\n",
       " Row(age=86, avgtripduration=4123.5)]"
      ]
     },
     "execution_count": 100,
     "metadata": {},
     "output_type": "execute_result"
    }
   ],
   "source": [
    "df_age.orderBy('avgtripduration').tail(10)"
   ]
  }
 ],
 "metadata": {
  "kernelspec": {
   "display_name": "Python 3",
   "language": "python",
   "name": "python3"
  },
  "language_info": {
   "codemirror_mode": {
    "name": "ipython",
    "version": 3
   },
   "file_extension": ".py",
   "mimetype": "text/x-python",
   "name": "python",
   "nbconvert_exporter": "python",
   "pygments_lexer": "ipython3",
   "version": "3.11.9"
  }
 },
 "nbformat": 4,
 "nbformat_minor": 5
}
